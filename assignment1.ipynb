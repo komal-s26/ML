{
 "cells": [
  {
   "cell_type": "markdown",
   "metadata": {},
   "source": [
    "1. Write a program which will find all such numbers which are divisible by 7 but are not a\n",
    "multiple of 5, between 2000 and 3200 (both included). The numbers obtained should be printed \n",
    "in a comma-separated sequence on a single line."
   ]
  },
  {
   "cell_type": "markdown",
   "metadata": {},
   "source": [
    "k=[]\n",
    "l=list(range(2000,3201))\n",
    "for i in l:\n",
    "    if i%7==0 and i%5!=0:\n",
    "        k.append(str(i))\n",
    "print(\",\".join(k))"
   ]
  },
  {
   "cell_type": "markdown",
   "metadata": {},
   "source": [
    "2. Write a Python program to accept the user's first and last name and then getting them\n",
    "printed in the the reverse order with a space between first name and last name."
   ]
  },
  {
   "cell_type": "code",
   "execution_count": 3,
   "metadata": {},
   "outputs": [
    {
     "name": "stdout",
     "output_type": "stream",
     "text": [
      "First nameKomal\n",
      "Last nameShukla\n",
      "alkuhS lamoK\n"
     ]
    }
   ],
   "source": [
    "a = input(\"First name\")\n",
    "b = input(\"Last name\")\n",
    "\"My name is {} {}.format(a,b)\"\n",
    "print(b[::-1]+\" \"+a[::-1])"
   ]
  },
  {
   "cell_type": "markdown",
   "metadata": {},
   "source": [
    "3. Write a Python program to find the volume of a sphere with diameter 12 cm.\n",
    "Formula: V=4/3 * π * r 3"
   ]
  },
  {
   "cell_type": "code",
   "execution_count": 5,
   "metadata": {},
   "outputs": [
    {
     "name": "stdout",
     "output_type": "stream",
     "text": [
      "volume of cube is 904.3199999999999cm^2\n"
     ]
    }
   ],
   "source": [
    "d=12\n",
    "r=d/2\n",
    "pi=3.14\n",
    "v=4/3*pi*r**3\n",
    "print(\"volume of cube is\"+\" \"+str(v)+\"cm^2\")"
   ]
  },
  {
   "cell_type": "code",
   "execution_count": null,
   "metadata": {},
   "outputs": [],
   "source": []
  }
 ],
 "metadata": {
  "kernelspec": {
   "display_name": "Python 3",
   "language": "python",
   "name": "python3"
  },
  "language_info": {
   "codemirror_mode": {
    "name": "ipython",
    "version": 3
   },
   "file_extension": ".py",
   "mimetype": "text/x-python",
   "name": "python",
   "nbconvert_exporter": "python",
   "pygments_lexer": "ipython3",
   "version": "3.7.6"
  }
 },
 "nbformat": 4,
 "nbformat_minor": 4
}
